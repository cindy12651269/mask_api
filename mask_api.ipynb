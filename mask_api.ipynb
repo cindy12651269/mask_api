{
  "nbformat": 4,
  "nbformat_minor": 0,
  "metadata": {
    "colab": {
      "provenance": [],
      "authorship_tag": "ABX9TyPVA18Z0H0m6mi5GH9tp0vY",
      "include_colab_link": true
    },
    "kernelspec": {
      "name": "python3",
      "display_name": "Python 3"
    },
    "language_info": {
      "name": "python"
    }
  },
  "cells": [
    {
      "cell_type": "markdown",
      "metadata": {
        "id": "view-in-github",
        "colab_type": "text"
      },
      "source": [
        "<a href=\"https://colab.research.google.com/github/cindy12651269/mask_api/blob/cindy12651269%2Fhw1/mask_api.ipynb\" target=\"_parent\"><img src=\"https://colab.research.google.com/assets/colab-badge.svg\" alt=\"Open In Colab\"/></a>"
      ]
    },
    {
      "cell_type": "code",
      "source": [
        "# 完成第一步驟的資料收集後 Commit 第一個版本：\n",
        "import requests\n",
        "import json\n",
        "\n",
        "# 利用 requests 對 API 來源發送一個請求\n",
        "url=\"https://raw.githubusercontent.com/kiang/pharmacies/master/json/points.json\"\n",
        "response=requests.get(url)\n",
        "\n",
        "# 將請求回應的內容存成一個字串格式\n",
        "response_text=response.text\n",
        "\n",
        "# 將長得像 json 格式的字串解析成字典或列表\n",
        "data=json.loads(response_text)\n",
        "\n",
        "med_count = {}\n",
        "\n",
        "# 填入欄位名稱\n",
        "for d in data['features']:\n",
        "    conunty = d['properties']['county']\n",
        "    if conunty not in med_count:\n",
        "         med_count[conunty] = 0\n",
        "    med_count[conunty] +=1\n",
        "\n",
        "print(med_count)\n",
        "# {'台北市': 123, '新北市': 456 ...}\n",
        "\n",
        "mask_count = {}\n",
        "\n",
        "# 填入欄位名稱\n",
        "for d in data['features']:\n",
        "    county = d['properties']['county']\n",
        "    adult_masks = d['properties']['mask_adult']\n",
        "    if county not in mask_count:\n",
        "        mask_count[county] = 0\n",
        "    mask_count[county] += adult_masks\n",
        "\n",
        "# 將結果從大到小排列\n",
        "mask_count = dict(sorted(mask_count.items(), key=lambda item: item[1]))\n",
        "\n",
        "print(mask_count)\n",
        "# {'台北市': 12345, '新北市': 45678 ...}\n"
      ],
      "metadata": {
        "colab": {
          "base_uri": "https://localhost:8080/"
        },
        "id": "FQ1km7n5nkHB",
        "outputId": "0fefd039-dd96-4fb0-b5ee-aa48d43fff40"
      },
      "execution_count": 6,
      "outputs": [
        {
          "output_type": "stream",
          "name": "stdout",
          "text": [
            "{'臺北市': 339, '': 49, '高雄市': 422, '臺中市': 420, '臺南市': 271, '基隆市': 57, '新竹市': 39, '嘉義市': 67, '新北市': 501, '桃園市': 264, '新竹縣': 46, '宜蘭縣': 76, '苗栗縣': 56, '彰化縣': 179, '南投縣': 67, '雲林縣': 129, '嘉義縣': 84, '屏東縣': 140, '澎湖縣': 11, '花蓮縣': 46, '臺東縣': 23, '金門縣': 6, '連江縣': 1}\n",
            "{'連江縣': 7930, '澎湖縣': 12600, '金門縣': 15510, '臺東縣': 28510, '新竹市': 45630, '新竹縣': 51350, '花蓮縣': 57330, '': 69210, '基隆市': 80100, '南投縣': 91240, '宜蘭縣': 106900, '嘉義市': 107840, '嘉義縣': 113180, '苗栗縣': 131080, '屏東縣': 184250, '雲林縣': 196990, '彰化縣': 219400, '臺北市': 322490, '桃園市': 331940, '臺南市': 393900, '高雄市': 424170, '臺中市': 536710, '新北市': 670270}\n"
          ]
        }
      ]
    }
  ]
}