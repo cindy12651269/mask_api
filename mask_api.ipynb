{
  "nbformat": 4,
  "nbformat_minor": 0,
  "metadata": {
    "colab": {
      "provenance": [],
      "authorship_tag": "ABX9TyOkKpYKWYxbT7sTs8Sc2j59",
      "include_colab_link": true
    },
    "kernelspec": {
      "name": "python3",
      "display_name": "Python 3"
    },
    "language_info": {
      "name": "python"
    }
  },
  "cells": [
    {
      "cell_type": "markdown",
      "metadata": {
        "id": "view-in-github",
        "colab_type": "text"
      },
      "source": [
        "<a href=\"https://colab.research.google.com/github/cindy12651269/mask_api/blob/cindy12651269%2Fnote/mask_api.ipynb\" target=\"_parent\"><img src=\"https://colab.research.google.com/assets/colab-badge.svg\" alt=\"Open In Colab\"/></a>"
      ]
    },
    {
      "cell_type": "code",
      "source": [
        "import requests\n",
        "import json\n",
        "\n",
        "# 利用 requests 對 API 來源發送一個請求\n",
        "url=\"https://raw.githubusercontent.com/kiang/pharmacies/master/json/points.json\"\n",
        "response=requests.get(url)\n",
        "\n",
        "# 將請求回應的內容存成一個字串格式\n",
        "response_text=response.text\n",
        "\n",
        "# 將長得像 json 格式的字串解析成字典或列表\n",
        "data=json.loads(response_text)\n"
      ],
      "metadata": {
        "colab": {
          "base_uri": "https://localhost:8080/"
        },
        "id": "FQ1km7n5nkHB",
        "outputId": "08054040-de30-47b9-989b-31765521892c"
      },
      "execution_count": null,
      "outputs": [
        {
          "output_type": "stream",
          "name": "stdout",
          "text": [
            "{'臺北市': 339, '': 49, '高雄市': 422, '臺中市': 420, '臺南市': 271, '基隆市': 57, '新竹市': 39, '嘉義市': 67, '新北市': 501, '桃園市': 264, '新竹縣': 46, '宜蘭縣': 76, '苗栗縣': 56, '彰化縣': 179, '南投縣': 67, '雲林縣': 129, '嘉義縣': 84, '屏東縣': 140, '澎湖縣': 11, '花蓮縣': 46, '臺東縣': 23, '金門縣': 6, '連江縣': 1}\n",
            "{'連江縣': 7930, '澎湖縣': 12600, '金門縣': 15510, '臺東縣': 28510, '新竹市': 45630, '新竹縣': 51350, '花蓮縣': 57330, '': 69210, '基隆市': 80100, '南投縣': 91240, '宜蘭縣': 106900, '嘉義市': 107840, '嘉義縣': 113180, '苗栗縣': 131080, '屏東縣': 184250, '雲林縣': 196990, '彰化縣': 219400, '臺北市': 322490, '桃園市': 331940, '臺南市': 393900, '高雄市': 424170, '臺中市': 536710, '新北市': 670270}\n"
          ]
        }
      ]
    },
    {
      "cell_type": "code",
      "source": [
        "med_count = {}\n",
        "\n",
        "# 填入欄位名稱\n",
        "for d in data['features']:\n",
        "    conunty = d['properties']['county']\n",
        "    if conunty not in med_count:\n",
        "         med_count[conunty] = 0\n",
        "    med_count[conunty] +=1\n",
        "\n",
        "print(med_count)\n",
        "# {'台北市': 123, '新北市': 456 ...}"
      ],
      "metadata": {
        "colab": {
          "base_uri": "https://localhost:8080/"
        },
        "id": "brsvYZbdW7dP",
        "outputId": "25d944e0-4383-424e-a90b-d86018fe31bc"
      },
      "execution_count": null,
      "outputs": [
        {
          "output_type": "stream",
          "name": "stdout",
          "text": [
            "{'臺北市': 339, '': 49, '高雄市': 422, '臺中市': 420, '臺南市': 271, '基隆市': 57, '新竹市': 39, '嘉義市': 67, '新北市': 501, '桃園市': 264, '新竹縣': 46, '宜蘭縣': 76, '苗栗縣': 56, '彰化縣': 179, '南投縣': 67, '雲林縣': 129, '嘉義縣': 84, '屏東縣': 140, '澎湖縣': 11, '花蓮縣': 46, '臺東縣': 23, '金門縣': 6, '連江縣': 1}\n"
          ]
        }
      ]
    },
    {
      "cell_type": "code",
      "source": [
        "mask_count = {}\n",
        "\n",
        "# 填入欄位名稱\n",
        "for d in data['features']:\n",
        "    county = d['properties']['county']\n",
        "    adult_masks = d['properties']['mask_adult']\n",
        "    if county not in mask_count:\n",
        "        mask_count[county] = 0\n",
        "    mask_count[county] += adult_masks\n",
        "\n",
        "# 將結果從大到小排列\n",
        "mask_count = dict(sorted(mask_count.items(), key=lambda item: item[1]))\n",
        "\n",
        "print(mask_count)\n",
        "# {'台北市': 12345, '新北市': 45678 ...}"
      ],
      "metadata": {
        "colab": {
          "base_uri": "https://localhost:8080/"
        },
        "id": "lc1EBwE1W-Ty",
        "outputId": "6d64985c-d9fc-4799-ff07-f9358d4f6927"
      },
      "execution_count": null,
      "outputs": [
        {
          "output_type": "stream",
          "name": "stdout",
          "text": [
            "{'連江縣': 7930, '澎湖縣': 12600, '金門縣': 15510, '臺東縣': 28510, '新竹市': 45630, '新竹縣': 51350, '花蓮縣': 57330, '': 69210, '基隆市': 80100, '南投縣': 91240, '宜蘭縣': 106900, '嘉義市': 107840, '嘉義縣': 113180, '苗栗縣': 131080, '屏東縣': 184250, '雲林縣': 196990, '彰化縣': 219400, '臺北市': 322490, '桃園市': 331940, '臺南市': 393900, '高雄市': 424170, '臺中市': 536710, '新北市': 670270}\n"
          ]
        }
      ]
    },
    {
      "cell_type": "code",
      "source": [
        "#將昨天計算的「各地區的藥局數量」存入資料庫的 `pharmacies` 表格，欄位包含「地區」、「數量」、「新增時間」\n",
        "import requests\n",
        "import json\n",
        "import sqlite3\n",
        "import datetime\n",
        "\n",
        "\n",
        "conn = sqlite3.connect('example.db')\n",
        "c = conn.cursor()\n",
        "\n",
        "# 新增且清空資料表\n",
        "c.execute('''CREATE TABLE IF NOT EXISTS pharmacies\n",
        "             (city text, counts text, createdAt datetime)''')\n",
        "c.execute('''DELETE FROM pharmacies''')\n",
        "conn.commit()\n",
        "\n",
        "# 新增資料\n",
        "url=\"https://raw.githubusercontent.com/kiang/pharmacies/master/json/points.json\"\n",
        "response=requests.get(url)\n",
        "\n",
        "response_text=response.text\n",
        "\n",
        "data=json.loads(response_text)\n",
        "\n",
        "#將計算的「各地區的藥局數量」存入資料庫的 `pharmacies` 表格，欄位包含「地區」、「數量」、「新增時間」\n",
        "# 蒐集資料\n",
        "\n",
        "med_count = {}\n",
        "for d in data['features']:\n",
        "    conunty = d['properties']['county']\n",
        "    if conunty not in med_count:\n",
        "         med_count[conunty] = 0\n",
        "\n",
        "    else:\n",
        "        med_count[conunty] += 1\n",
        "\n",
        "# 將每一筆資料分別取出來新增到資料庫\n",
        "for city, counts in med_count.items():\n",
        "  t = datetime.datetime.now()\n",
        "  print(f\"INSERT INTO pharmacies VALUES ('{city}', {counts}, '{t}')\")\n",
        "  c.execute(f\"INSERT INTO pharmacies VALUES ('{city}', {counts}, '{t}')\")\n",
        "  conn.commit()\n",
        "\n",
        "# 查詢資料\n",
        "\n",
        "c.execute(\"SELECT * FROM pharmacies\")\n",
        "print(c.fetchall())\n",
        "\n",
        "conn.commit()\n",
        "conn.close()"
      ],
      "metadata": {
        "colab": {
          "base_uri": "https://localhost:8080/"
        },
        "id": "VWqc-pRykH6f",
        "outputId": "14c555e1-df13-4c67-9778-e3176a6edf01"
      },
      "execution_count": 11,
      "outputs": [
        {
          "output_type": "stream",
          "name": "stdout",
          "text": [
            "INSERT INTO pharmacies VALUES ('臺北市', 338, '2024-06-30 02:02:40.471249')\n",
            "INSERT INTO pharmacies VALUES ('', 48, '2024-06-30 02:02:40.502505')\n",
            "INSERT INTO pharmacies VALUES ('高雄市', 421, '2024-06-30 02:02:40.514879')\n",
            "INSERT INTO pharmacies VALUES ('臺中市', 419, '2024-06-30 02:02:40.525707')\n",
            "INSERT INTO pharmacies VALUES ('臺南市', 270, '2024-06-30 02:02:40.536411')\n",
            "INSERT INTO pharmacies VALUES ('基隆市', 56, '2024-06-30 02:02:40.546130')\n",
            "INSERT INTO pharmacies VALUES ('新竹市', 38, '2024-06-30 02:02:40.556185')\n",
            "INSERT INTO pharmacies VALUES ('嘉義市', 66, '2024-06-30 02:02:40.566515')\n",
            "INSERT INTO pharmacies VALUES ('新北市', 500, '2024-06-30 02:02:40.576261')\n",
            "INSERT INTO pharmacies VALUES ('桃園市', 263, '2024-06-30 02:02:40.586124')\n",
            "INSERT INTO pharmacies VALUES ('新竹縣', 45, '2024-06-30 02:02:40.595952')\n",
            "INSERT INTO pharmacies VALUES ('宜蘭縣', 75, '2024-06-30 02:02:40.604957')\n",
            "INSERT INTO pharmacies VALUES ('苗栗縣', 55, '2024-06-30 02:02:40.614058')\n",
            "INSERT INTO pharmacies VALUES ('彰化縣', 178, '2024-06-30 02:02:40.623447')\n",
            "INSERT INTO pharmacies VALUES ('南投縣', 66, '2024-06-30 02:02:40.632206')\n",
            "INSERT INTO pharmacies VALUES ('雲林縣', 128, '2024-06-30 02:02:40.641687')\n",
            "INSERT INTO pharmacies VALUES ('嘉義縣', 83, '2024-06-30 02:02:40.651218')\n",
            "INSERT INTO pharmacies VALUES ('屏東縣', 139, '2024-06-30 02:02:40.660540')\n",
            "INSERT INTO pharmacies VALUES ('澎湖縣', 10, '2024-06-30 02:02:40.669723')\n",
            "INSERT INTO pharmacies VALUES ('花蓮縣', 45, '2024-06-30 02:02:40.678660')\n",
            "INSERT INTO pharmacies VALUES ('臺東縣', 22, '2024-06-30 02:02:40.687995')\n",
            "INSERT INTO pharmacies VALUES ('金門縣', 5, '2024-06-30 02:02:40.697509')\n",
            "INSERT INTO pharmacies VALUES ('連江縣', 0, '2024-06-30 02:02:40.706629')\n",
            "[('臺北市', '338', '2024-06-30 02:02:40.471249'), ('', '48', '2024-06-30 02:02:40.502505'), ('高雄市', '421', '2024-06-30 02:02:40.514879'), ('臺中市', '419', '2024-06-30 02:02:40.525707'), ('臺南市', '270', '2024-06-30 02:02:40.536411'), ('基隆市', '56', '2024-06-30 02:02:40.546130'), ('新竹市', '38', '2024-06-30 02:02:40.556185'), ('嘉義市', '66', '2024-06-30 02:02:40.566515'), ('新北市', '500', '2024-06-30 02:02:40.576261'), ('桃園市', '263', '2024-06-30 02:02:40.586124'), ('新竹縣', '45', '2024-06-30 02:02:40.595952'), ('宜蘭縣', '75', '2024-06-30 02:02:40.604957'), ('苗栗縣', '55', '2024-06-30 02:02:40.614058'), ('彰化縣', '178', '2024-06-30 02:02:40.623447'), ('南投縣', '66', '2024-06-30 02:02:40.632206'), ('雲林縣', '128', '2024-06-30 02:02:40.641687'), ('嘉義縣', '83', '2024-06-30 02:02:40.651218'), ('屏東縣', '139', '2024-06-30 02:02:40.660540'), ('澎湖縣', '10', '2024-06-30 02:02:40.669723'), ('花蓮縣', '45', '2024-06-30 02:02:40.678660'), ('臺東縣', '22', '2024-06-30 02:02:40.687995'), ('金門縣', '5', '2024-06-30 02:02:40.697509'), ('連江縣', '0', '2024-06-30 02:02:40.706629')]\n"
          ]
        }
      ]
    },
    {
      "cell_type": "code",
      "source": [
        "#接下來請將昨天計算的「各地區的剩餘口罩」存入資料庫的 `masks` 表格，欄位包含「地區」、「剩餘口罩數量」、「新增時間」\n",
        "import sqlite3\n",
        "import datetime\n",
        "\n",
        "conn = sqlite3.connect('example.db')\n",
        "c = conn.cursor()\n",
        "\n",
        "# 新增且清空資料表\n",
        "c.execute('''CREATE TABLE IF NOT EXISTS masks(city text, counts text, createdAt datetime)''') #建立Table masks，並設定欄位，以及欄位的資料型態。\n",
        "c.execute('''DELETE FROM masks''') #清空Table\n",
        "conn.commit()\n",
        "\n",
        "\n",
        "# 新增資料\n",
        "mask_count = {} # 把收集資料部分放在這邊\n",
        "\n",
        "for d in data['features']:\n",
        "    county = d['properties']['county']\n",
        "    mask_adult = d['properties']['mask_adult']\n",
        "    if county not in mask_count:\n",
        "        mask_count[county] = 0\n",
        "\n",
        "    else:\n",
        "        mask_count[county] += mask_adult #計算成人口罩數量\n",
        "# mask_count = dict(sorted(mask_count.items(), key=lambda item: item[1], reverse=True)) # 將結果從大到小排列\n",
        "\n",
        "\n",
        "# 將每一筆資料分別取出來新增到資料庫\n",
        "for city, counts in mask_count.items():\n",
        "  t = datetime.datetime.now()\n",
        "#   print(f\"INSERT INTO masks VALUES ('{city}', {counts}, '{t}')\")\n",
        "  c.execute(f\"INSERT INTO masks VALUES ('{city}', {counts}, '{t}')\")\n",
        "  conn.commit()\n",
        "\n",
        "# 查詢資料\n",
        "c.execute(\"SELECT * FROM masks\")\n",
        "print(c.fetchall())\n",
        "\n",
        "conn.commit()\n",
        "conn.close()"
      ],
      "metadata": {
        "id": "yHem_sRI1HvB",
        "outputId": "6cc6faa3-515a-4273-e9a9-04843a9fc37e",
        "colab": {
          "base_uri": "https://localhost:8080/"
        }
      },
      "execution_count": 10,
      "outputs": [
        {
          "output_type": "stream",
          "name": "stdout",
          "text": [
            "[('臺北市', '322490', '2024-06-30 01:49:47.700741'), ('', '68040', '2024-06-30 01:49:47.711378'), ('高雄市', '424170', '2024-06-30 01:49:47.719882'), ('臺中市', '535430', '2024-06-30 01:49:47.728092'), ('臺南市', '392430', '2024-06-30 01:49:47.735171'), ('基隆市', '79840', '2024-06-30 01:49:47.742993'), ('新竹市', '45630', '2024-06-30 01:49:47.750280'), ('嘉義市', '105870', '2024-06-30 01:49:47.757643'), ('新北市', '670150', '2024-06-30 01:49:47.764902'), ('桃園市', '330010', '2024-06-30 01:49:47.772457'), ('新竹縣', '51280', '2024-06-30 01:49:47.779597'), ('宜蘭縣', '105830', '2024-06-30 01:49:47.786966'), ('苗栗縣', '119500', '2024-06-30 01:49:47.795244'), ('彰化縣', '218090', '2024-06-30 01:49:47.802149'), ('南投縣', '81680', '2024-06-30 01:49:47.809719'), ('雲林縣', '195540', '2024-06-30 01:49:47.817108'), ('嘉義縣', '112190', '2024-06-30 01:49:47.824736'), ('屏東縣', '181480', '2024-06-30 01:49:47.832179'), ('澎湖縣', '11350', '2024-06-30 01:49:47.839320'), ('花蓮縣', '56570', '2024-06-30 01:49:47.846290'), ('臺東縣', '27720', '2024-06-30 01:49:47.853742'), ('金門縣', '15510', '2024-06-30 01:49:47.860657'), ('連江縣', '0', '2024-06-30 01:49:47.867860')]\n"
          ]
        }
      ]
    }
  ]
}